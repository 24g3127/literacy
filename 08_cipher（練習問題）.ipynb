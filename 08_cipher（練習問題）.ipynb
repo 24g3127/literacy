{
  "nbformat": 4,
  "nbformat_minor": 0,
  "metadata": {
    "colab": {
      "provenance": []
    },
    "kernelspec": {
      "name": "python3",
      "display_name": "Python 3"
    },
    "language_info": {
      "name": "python"
    }
  },
  "cells": [
    {
      "cell_type": "markdown",
      "source": [
        "### 実習1：暗号\n",
        "\n",
        "教員だけが読めるように暗号化したファイルを作り，公開する．公開しても大丈夫なのは，教員だけが読めるように暗号化するから．\n",
        "\n",
        "学生番号をファイルreportに書き込む．学生番号が123456の場合の例を示す．**番号を書き換えてから実行すること．**"
      ],
      "metadata": {
        "id": "5zzVkIgA8a2K"
      }
    },
    {
      "cell_type": "code",
      "source": [
        "!echo 24G3127 > report\n",
        "!cat report #確認"
      ],
      "metadata": {
        "id": "U7tA_e0E8KUq",
        "outputId": "b482ce05-c663-41a9-cfb1-18a4b80bdc67",
        "colab": {
          "base_uri": "https://localhost:8080/"
        }
      },
      "execution_count": 1,
      "outputs": [
        {
          "output_type": "stream",
          "name": "stdout",
          "text": [
            "24G3127\n"
          ]
        }
      ]
    },
    {
      "cell_type": "code",
      "source": [
        "#教員の公開鍵（yabuki-public.pem）を取得する．\n",
        "!wget --quiet https://raw.githubusercontent.com/ybktr/literacy/main/yabuki-public.pem"
      ],
      "metadata": {
        "id": "6QkRraX-AB6C"
      },
      "execution_count": 2,
      "outputs": []
    },
    {
      "cell_type": "markdown",
      "source": [
        "教員の公開鍵を使って，reportを暗号化し，ファイルreport-secretを作る．"
      ],
      "metadata": {
        "id": "oGy3H5gF89zh"
      }
    },
    {
      "cell_type": "code",
      "source": [
        "#ここにコードを書いて実行する．\n",
        "!echo \"こんにちは\" > messagereport-secret"
      ],
      "metadata": {
        "id": "PbEhSdTw87zr"
      },
      "execution_count": 5,
      "outputs": []
    },
    {
      "cell_type": "markdown",
      "source": [
        "ファイルreport-secretをGitHubで公開し，そのURLを報告する．（まずreport-secretを自分のPCにダウンロードしてから，GitHubにpushするといい．）\n",
        "\n",
        "URLの形式: https://ユーザ名.github.io/literacy/report-secret"
      ],
      "metadata": {
        "id": "2hpfnZ9M9vPZ"
      }
    },
    {
      "cell_type": "markdown",
      "source": [
        "### 実習2：デジタル署名\n",
        "\n",
        "デジタル署名と3個のメッセージを取得する．"
      ],
      "metadata": {
        "id": "3QE8XO5W7tqh"
      }
    },
    {
      "cell_type": "code",
      "source": [
        "!rm -f message*\n",
        "!wget --quiet https://raw.githubusercontent.com/ybktr/literacy/main/message-signature\n",
        "!wget --quiet https://raw.githubusercontent.com/ybktr/literacy/main/message1\n",
        "!wget --quiet https://raw.githubusercontent.com/ybktr/literacy/main/message2\n",
        "!wget --quiet https://raw.githubusercontent.com/ybktr/literacy/main/message3"
      ],
      "metadata": {
        "id": "DD8VHOMH7ZQg"
      },
      "execution_count": 4,
      "outputs": []
    },
    {
      "cell_type": "markdown",
      "source": [
        "3個のメッセージのうちで，矢吹が書いたものだと確認できるのはどれか．"
      ],
      "metadata": {
        "id": "25IXIyGrorvr"
      }
    },
    {
      "cell_type": "code",
      "source": [
        "#ここにコードを書いて実行する．"
      ],
      "metadata": {
        "id": "ms5RNNMaBQPa"
      },
      "execution_count": null,
      "outputs": []
    }
  ]
}